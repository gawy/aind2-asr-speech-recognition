{
 "cells": [
  {
   "cell_type": "code",
   "execution_count": 2,
   "metadata": {},
   "outputs": [],
   "source": [
    "from data_generator import vis_train_features,AudioGenerator\n",
    "\n",
    "# extract label and audio features for a single training example\n",
    "# vis_text, vis_raw_audio, vis_mfcc_feature, vis_spectrogram_feature, vis_audio_path = vis_train_features(index=7)\n",
    "\n",
    "audio_gen = AudioGenerator(spectrogram=True)\n",
    "audio_gen.load_train_data()\n",
    "audio_gen.load_validation_data()\n",
    "# audio_gen.load_test_data()\n"
   ]
  },
  {
   "cell_type": "code",
   "execution_count": 5,
   "metadata": {},
   "outputs": [
    {
     "name": "stdout",
     "output_type": "stream",
     "text": [
      "her father is a most remarkable person to say the least\n",
      "but it is quite plain to me that all the arrangements for my wedding are going to be made by the snellings\n",
      "it might just as well be some one else's wedding so unimportant is the part which i am set to play in it\n",
      "\n",
      "Most common:\n",
      " [('<START>', 2023), ('<END>', 2023), ('the', 1851), ('and', 932), ('of', 828), ('to', 803), ('a', 687), ('in', 520), ('i', 469), ('he', 459)]\n",
      "\n",
      "Least common:\n",
      " [('asura', 1), ('disobeyed', 1), ('failing', 1), ('grip', 1), ('pyre', 1), ('brings', 1), ('sear', 1), ('taloned', 1), ('cluster', 1)]\n",
      "Max sequence length:  41\n",
      "Vocabulary size:  5653\n",
      "Validation max length:  40\n",
      "There are 2617 unique words in validation set\n",
      "There are 2551 common words between 2 sets\n"
     ]
    }
   ],
   "source": [
    "from collections import Counter\n",
    "from itertools import chain\n",
    "\n",
    "txt_split = [txt.split(' ') for txt in audio_gen.train_texts]\n",
    "txt_split = [['<START>'] + seq + ['<END>'] for seq in txt_split]\n",
    "train_ctr = Counter(chain.from_iterable(txt_split))\n",
    "txt_max_len = max([len(seq) for seq in txt_split])\n",
    "\n",
    "train_word_2_idx = {w:idx+1 for idx, w in enumerate(list(train_ctr))}\n",
    "train_word_2_idx['<PAD>'] = 0\n",
    "\n",
    "train_idx_2_word = {v:k for k,v in train_word_2_idx.items()}\n",
    "\n",
    "for txt in audio_gen.train_texts[:3]:\n",
    "    print(txt)\n",
    "    \n",
    "print('\\nMost common:\\n',train_ctr.most_common(10))\n",
    "print('\\nLeast common:\\n',train_ctr.most_common()[:-10:-1])\n",
    "print('Max sequence length: ', txt_max_len)\n",
    "print('Vocabulary size: ', len(train_idx_2_word))\n",
    "\n",
    "# Validation set\n",
    "print(\"Validation max length: \", max([len(txt.split(\" \"))+2 for txt in audio_gen.valid_texts]))\n",
    "valid_split = [['<START>'] + txt.split(\" \") + [\"<END>\"] for txt in audio_gen.valid_texts]\n",
    "valid_ctr = Counter(chain.from_iterable(valid_split))\n",
    "\n",
    "valid_train_diff = set(valid_ctr) - set(train_ctr)\n",
    "print(\"There are {} unique words in validation set\".format(len(valid_train_diff)))\n",
    "print(\"There are {} common words between 2 sets\".format(len(set(valid_ctr)&set(train_ctr))))"
   ]
  }
 ],
 "metadata": {
  "kernelspec": {
   "display_name": "Python 3",
   "language": "python",
   "name": "python3"
  },
  "language_info": {
   "codemirror_mode": {
    "name": "ipython",
    "version": 3
   },
   "file_extension": ".py",
   "mimetype": "text/x-python",
   "name": "python",
   "nbconvert_exporter": "python",
   "pygments_lexer": "ipython3",
   "version": "3.6.3"
  }
 },
 "nbformat": 4,
 "nbformat_minor": 2
}
